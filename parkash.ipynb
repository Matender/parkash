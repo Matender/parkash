{
  "nbformat": 4,
  "nbformat_minor": 0,
  "metadata": {
    "colab": {
      "provenance": []
    },
    "kernelspec": {
      "name": "python3",
      "display_name": "Python 3"
    },
    "language_info": {
      "name": "python"
    }
  },
  "cells": [
    {
      "cell_type": "markdown",
      "source": [
        "Functions\n"
      ],
      "metadata": {
        "id": "LB2Y6HNHU29e"
      }
    },
    {
      "cell_type": "markdown",
      "source": [
        "1. what is your name\n",
        "  Ans = My name is Matender kumar.\n"
      ],
      "metadata": {
        "id": "31B43jI6VQlw"
      }
    }
  ]
}